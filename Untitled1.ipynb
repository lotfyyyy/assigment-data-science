{
 "cells": [
  {
   "cell_type": "code",
   "execution_count": 1,
   "id": "20e2ea60",
   "metadata": {},
   "outputs": [
    {
     "data": {
      "text/html": [
       "<div>\n",
       "<style scoped>\n",
       "    .dataframe tbody tr th:only-of-type {\n",
       "        vertical-align: middle;\n",
       "    }\n",
       "\n",
       "    .dataframe tbody tr th {\n",
       "        vertical-align: top;\n",
       "    }\n",
       "\n",
       "    .dataframe thead th {\n",
       "        text-align: right;\n",
       "    }\n",
       "</style>\n",
       "<table border=\"1\" class=\"dataframe\">\n",
       "  <thead>\n",
       "    <tr style=\"text-align: right;\">\n",
       "      <th></th>\n",
       "      <th>Invoice ID</th>\n",
       "      <th>Branch</th>\n",
       "      <th>City</th>\n",
       "      <th>Customer type</th>\n",
       "      <th>Gender</th>\n",
       "      <th>Product line</th>\n",
       "      <th>Unit price</th>\n",
       "      <th>Quantity</th>\n",
       "      <th>Tax 5%</th>\n",
       "      <th>Total</th>\n",
       "      <th>Date</th>\n",
       "      <th>Time</th>\n",
       "      <th>Payment</th>\n",
       "      <th>cogs</th>\n",
       "      <th>gross margin percentage</th>\n",
       "      <th>gross income</th>\n",
       "      <th>Rating</th>\n",
       "    </tr>\n",
       "  </thead>\n",
       "  <tbody>\n",
       "    <tr>\n",
       "      <th>0</th>\n",
       "      <td>750-67-8428</td>\n",
       "      <td>A</td>\n",
       "      <td>Yangon</td>\n",
       "      <td>Member</td>\n",
       "      <td>Female</td>\n",
       "      <td>Health and beauty</td>\n",
       "      <td>74.69</td>\n",
       "      <td>7</td>\n",
       "      <td>26.1415</td>\n",
       "      <td>548.9715</td>\n",
       "      <td>1/5/2019</td>\n",
       "      <td>13:08</td>\n",
       "      <td>Ewallet</td>\n",
       "      <td>522.83</td>\n",
       "      <td>4.761905</td>\n",
       "      <td>26.1415</td>\n",
       "      <td>9.1</td>\n",
       "    </tr>\n",
       "    <tr>\n",
       "      <th>1</th>\n",
       "      <td>226-31-3081</td>\n",
       "      <td>C</td>\n",
       "      <td>Naypyitaw</td>\n",
       "      <td>Normal</td>\n",
       "      <td>Female</td>\n",
       "      <td>Electronic accessories</td>\n",
       "      <td>15.28</td>\n",
       "      <td>5</td>\n",
       "      <td>3.8200</td>\n",
       "      <td>80.2200</td>\n",
       "      <td>3/8/2019</td>\n",
       "      <td>10:29</td>\n",
       "      <td>Cash</td>\n",
       "      <td>76.40</td>\n",
       "      <td>4.761905</td>\n",
       "      <td>3.8200</td>\n",
       "      <td>9.6</td>\n",
       "    </tr>\n",
       "    <tr>\n",
       "      <th>2</th>\n",
       "      <td>631-41-3108</td>\n",
       "      <td>A</td>\n",
       "      <td>Yangon</td>\n",
       "      <td>Normal</td>\n",
       "      <td>Male</td>\n",
       "      <td>Home and lifestyle</td>\n",
       "      <td>46.33</td>\n",
       "      <td>7</td>\n",
       "      <td>16.2155</td>\n",
       "      <td>340.5255</td>\n",
       "      <td>3/3/2019</td>\n",
       "      <td>13:23</td>\n",
       "      <td>Credit card</td>\n",
       "      <td>324.31</td>\n",
       "      <td>4.761905</td>\n",
       "      <td>16.2155</td>\n",
       "      <td>7.4</td>\n",
       "    </tr>\n",
       "    <tr>\n",
       "      <th>3</th>\n",
       "      <td>123-19-1176</td>\n",
       "      <td>A</td>\n",
       "      <td>Yangon</td>\n",
       "      <td>Member</td>\n",
       "      <td>Male</td>\n",
       "      <td>Health and beauty</td>\n",
       "      <td>58.22</td>\n",
       "      <td>8</td>\n",
       "      <td>23.2880</td>\n",
       "      <td>489.0480</td>\n",
       "      <td>1/27/2019</td>\n",
       "      <td>20:33</td>\n",
       "      <td>Ewallet</td>\n",
       "      <td>465.76</td>\n",
       "      <td>4.761905</td>\n",
       "      <td>23.2880</td>\n",
       "      <td>8.4</td>\n",
       "    </tr>\n",
       "    <tr>\n",
       "      <th>4</th>\n",
       "      <td>373-73-7910</td>\n",
       "      <td>A</td>\n",
       "      <td>Yangon</td>\n",
       "      <td>Normal</td>\n",
       "      <td>Male</td>\n",
       "      <td>Sports and travel</td>\n",
       "      <td>86.31</td>\n",
       "      <td>7</td>\n",
       "      <td>30.2085</td>\n",
       "      <td>634.3785</td>\n",
       "      <td>2/8/2019</td>\n",
       "      <td>10:37</td>\n",
       "      <td>Ewallet</td>\n",
       "      <td>604.17</td>\n",
       "      <td>4.761905</td>\n",
       "      <td>30.2085</td>\n",
       "      <td>5.3</td>\n",
       "    </tr>\n",
       "  </tbody>\n",
       "</table>\n",
       "</div>"
      ],
      "text/plain": [
       "    Invoice ID Branch       City Customer type  Gender  \\\n",
       "0  750-67-8428      A     Yangon        Member  Female   \n",
       "1  226-31-3081      C  Naypyitaw        Normal  Female   \n",
       "2  631-41-3108      A     Yangon        Normal    Male   \n",
       "3  123-19-1176      A     Yangon        Member    Male   \n",
       "4  373-73-7910      A     Yangon        Normal    Male   \n",
       "\n",
       "             Product line  Unit price  Quantity   Tax 5%     Total       Date  \\\n",
       "0       Health and beauty       74.69         7  26.1415  548.9715   1/5/2019   \n",
       "1  Electronic accessories       15.28         5   3.8200   80.2200   3/8/2019   \n",
       "2      Home and lifestyle       46.33         7  16.2155  340.5255   3/3/2019   \n",
       "3       Health and beauty       58.22         8  23.2880  489.0480  1/27/2019   \n",
       "4       Sports and travel       86.31         7  30.2085  634.3785   2/8/2019   \n",
       "\n",
       "    Time      Payment    cogs  gross margin percentage  gross income  Rating  \n",
       "0  13:08      Ewallet  522.83                 4.761905       26.1415     9.1  \n",
       "1  10:29         Cash   76.40                 4.761905        3.8200     9.6  \n",
       "2  13:23  Credit card  324.31                 4.761905       16.2155     7.4  \n",
       "3  20:33      Ewallet  465.76                 4.761905       23.2880     8.4  \n",
       "4  10:37      Ewallet  604.17                 4.761905       30.2085     5.3  "
      ]
     },
     "execution_count": 1,
     "metadata": {},
     "output_type": "execute_result"
    }
   ],
   "source": [
    "import pandas as pd\n",
    "from pandas import DataFrame\n",
    "sales_df=pd.read_csv('supermarket_sales - Sheet1.csv')\n",
    "sales_df.head()"
   ]
  },
  {
   "cell_type": "code",
   "execution_count": 2,
   "id": "9316ecaa",
   "metadata": {},
   "outputs": [
    {
     "name": "stdout",
     "output_type": "stream",
     "text": [
      "<class 'pandas.core.frame.DataFrame'>\n",
      "RangeIndex: 1000 entries, 0 to 999\n",
      "Data columns (total 17 columns):\n",
      " #   Column                   Non-Null Count  Dtype  \n",
      "---  ------                   --------------  -----  \n",
      " 0   Invoice ID               1000 non-null   object \n",
      " 1   Branch                   1000 non-null   object \n",
      " 2   City                     1000 non-null   object \n",
      " 3   Customer type            1000 non-null   object \n",
      " 4   Gender                   1000 non-null   object \n",
      " 5   Product line             1000 non-null   object \n",
      " 6   Unit price               1000 non-null   float64\n",
      " 7   Quantity                 1000 non-null   int64  \n",
      " 8   Tax 5%                   1000 non-null   float64\n",
      " 9   Total                    1000 non-null   float64\n",
      " 10  Date                     1000 non-null   object \n",
      " 11  Time                     1000 non-null   object \n",
      " 12  Payment                  1000 non-null   object \n",
      " 13  cogs                     1000 non-null   float64\n",
      " 14  gross margin percentage  1000 non-null   float64\n",
      " 15  gross income             1000 non-null   float64\n",
      " 16  Rating                   1000 non-null   float64\n",
      "dtypes: float64(7), int64(1), object(9)\n",
      "memory usage: 132.9+ KB\n"
     ]
    }
   ],
   "source": [
    "sales_df.info()"
   ]
  },
  {
   "cell_type": "code",
   "execution_count": 3,
   "id": "7b5171e9",
   "metadata": {},
   "outputs": [
    {
     "data": {
      "text/html": [
       "<div>\n",
       "<style scoped>\n",
       "    .dataframe tbody tr th:only-of-type {\n",
       "        vertical-align: middle;\n",
       "    }\n",
       "\n",
       "    .dataframe tbody tr th {\n",
       "        vertical-align: top;\n",
       "    }\n",
       "\n",
       "    .dataframe thead th {\n",
       "        text-align: right;\n",
       "    }\n",
       "</style>\n",
       "<table border=\"1\" class=\"dataframe\">\n",
       "  <thead>\n",
       "    <tr style=\"text-align: right;\">\n",
       "      <th></th>\n",
       "      <th>Invoice ID</th>\n",
       "      <th>Branch</th>\n",
       "      <th>City</th>\n",
       "      <th>Customer type</th>\n",
       "      <th>Gender</th>\n",
       "      <th>Product line</th>\n",
       "      <th>Unit price</th>\n",
       "      <th>Quantity</th>\n",
       "      <th>Tax 5%</th>\n",
       "      <th>Total</th>\n",
       "      <th>Date</th>\n",
       "      <th>Time</th>\n",
       "      <th>Payment</th>\n",
       "      <th>cogs</th>\n",
       "      <th>gross margin percentage</th>\n",
       "      <th>gross income</th>\n",
       "      <th>Rating</th>\n",
       "    </tr>\n",
       "  </thead>\n",
       "  <tbody>\n",
       "    <tr>\n",
       "      <th>False</th>\n",
       "      <td>1000</td>\n",
       "      <td>1000</td>\n",
       "      <td>1000</td>\n",
       "      <td>1000</td>\n",
       "      <td>1000</td>\n",
       "      <td>1000</td>\n",
       "      <td>1000</td>\n",
       "      <td>1000</td>\n",
       "      <td>1000</td>\n",
       "      <td>1000</td>\n",
       "      <td>1000</td>\n",
       "      <td>1000</td>\n",
       "      <td>1000</td>\n",
       "      <td>1000</td>\n",
       "      <td>1000</td>\n",
       "      <td>1000</td>\n",
       "      <td>1000</td>\n",
       "    </tr>\n",
       "  </tbody>\n",
       "</table>\n",
       "</div>"
      ],
      "text/plain": [
       "       Invoice ID  Branch  City  Customer type  Gender  Product line  \\\n",
       "False        1000    1000  1000           1000    1000          1000   \n",
       "\n",
       "       Unit price  Quantity  Tax 5%  Total  Date  Time  Payment  cogs  \\\n",
       "False        1000      1000    1000   1000  1000  1000     1000  1000   \n",
       "\n",
       "       gross margin percentage  gross income  Rating  \n",
       "False                     1000          1000    1000  "
      ]
     },
     "execution_count": 3,
     "metadata": {},
     "output_type": "execute_result"
    }
   ],
   "source": [
    "sales_df.isna().apply(pd.value_counts)"
   ]
  },
  {
   "cell_type": "code",
   "execution_count": 4,
   "id": "4bbd4df4",
   "metadata": {},
   "outputs": [],
   "source": [
    "#no missing values"
   ]
  },
  {
   "cell_type": "code",
   "execution_count": 5,
   "id": "aebc9f09",
   "metadata": {},
   "outputs": [
    {
     "data": {
      "text/plain": [
       "55.67212999999998"
      ]
     },
     "execution_count": 5,
     "metadata": {},
     "output_type": "execute_result"
    }
   ],
   "source": [
    "sales_df['Unit price'].mean()"
   ]
  },
  {
   "cell_type": "code",
   "execution_count": 6,
   "id": "4244c6bc",
   "metadata": {},
   "outputs": [
    {
     "data": {
      "text/plain": [
       "5.51"
      ]
     },
     "execution_count": 6,
     "metadata": {},
     "output_type": "execute_result"
    }
   ],
   "source": [
    "sales_df['Quantity'].mean()"
   ]
  },
  {
   "cell_type": "code",
   "execution_count": 7,
   "id": "7caab8ab",
   "metadata": {},
   "outputs": [
    {
     "data": {
      "text/plain": [
       "15.379369000000002"
      ]
     },
     "execution_count": 7,
     "metadata": {},
     "output_type": "execute_result"
    }
   ],
   "source": [
    "sales_df['Tax 5%'].mean()"
   ]
  },
  {
   "cell_type": "code",
   "execution_count": 8,
   "id": "0dc460fd",
   "metadata": {},
   "outputs": [
    {
     "data": {
      "text/plain": [
       "322.96674900000005"
      ]
     },
     "execution_count": 8,
     "metadata": {},
     "output_type": "execute_result"
    }
   ],
   "source": [
    "sales_df['Total'].mean()"
   ]
  },
  {
   "cell_type": "code",
   "execution_count": 9,
   "id": "6540f2ce",
   "metadata": {},
   "outputs": [
    {
     "data": {
      "text/plain": [
       "307.58738000000034"
      ]
     },
     "execution_count": 9,
     "metadata": {},
     "output_type": "execute_result"
    }
   ],
   "source": [
    "sales_df['cogs'].mean()"
   ]
  },
  {
   "cell_type": "code",
   "execution_count": 10,
   "id": "4ccbc6d5",
   "metadata": {},
   "outputs": [
    {
     "data": {
      "text/plain": [
       "4.761904762000062"
      ]
     },
     "execution_count": 10,
     "metadata": {},
     "output_type": "execute_result"
    }
   ],
   "source": [
    "sales_df['gross margin percentage'].mean()"
   ]
  },
  {
   "cell_type": "code",
   "execution_count": 11,
   "id": "c669a166",
   "metadata": {},
   "outputs": [
    {
     "data": {
      "text/plain": [
       "15.379369000000002"
      ]
     },
     "execution_count": 11,
     "metadata": {},
     "output_type": "execute_result"
    }
   ],
   "source": [
    "sales_df['gross income'].mean()"
   ]
  },
  {
   "cell_type": "code",
   "execution_count": 13,
   "id": "39f92db0",
   "metadata": {},
   "outputs": [
    {
     "data": {
      "text/plain": [
       "6.972700000000003"
      ]
     },
     "execution_count": 13,
     "metadata": {},
     "output_type": "execute_result"
    }
   ],
   "source": [
    "sales_df['Rating'].mean()"
   ]
  },
  {
   "cell_type": "code",
   "execution_count": 14,
   "id": "92bd0e0a",
   "metadata": {},
   "outputs": [
    {
     "data": {
      "text/plain": [
       "701.9653312943939"
      ]
     },
     "execution_count": 14,
     "metadata": {},
     "output_type": "execute_result"
    }
   ],
   "source": [
    "sales_df['Unit price'].var()"
   ]
  },
  {
   "cell_type": "code",
   "execution_count": 15,
   "id": "beed0a18",
   "metadata": {},
   "outputs": [
    {
     "data": {
      "text/plain": [
       "8.546446446446451"
      ]
     },
     "execution_count": 15,
     "metadata": {},
     "output_type": "execute_result"
    }
   ],
   "source": [
    "sales_df['Quantity'].var()"
   ]
  },
  {
   "cell_type": "code",
   "execution_count": 16,
   "id": "076697c5",
   "metadata": {},
   "outputs": [
    {
     "data": {
      "text/plain": [
       "137.09659414448348"
      ]
     },
     "execution_count": 16,
     "metadata": {},
     "output_type": "execute_result"
    }
   ],
   "source": [
    "sales_df['Tax 5%'].var()"
   ]
  },
  {
   "cell_type": "code",
   "execution_count": 17,
   "id": "6a4044c8",
   "metadata": {},
   "outputs": [
    {
     "data": {
      "text/plain": [
       "60459.598017717326"
      ]
     },
     "execution_count": 17,
     "metadata": {},
     "output_type": "execute_result"
    }
   ],
   "source": [
    "sales_df['Total'].var()"
   ]
  },
  {
   "cell_type": "code",
   "execution_count": 18,
   "id": "b9ae9814",
   "metadata": {},
   "outputs": [
    {
     "data": {
      "text/plain": [
       "54838.63765779334"
      ]
     },
     "execution_count": 18,
     "metadata": {},
     "output_type": "execute_result"
    }
   ],
   "source": [
    "sales_df['cogs'].var()"
   ]
  },
  {
   "cell_type": "code",
   "execution_count": 19,
   "id": "e50c4ab1",
   "metadata": {},
   "outputs": [
    {
     "data": {
      "text/plain": [
       "3.75952629605329e-27"
      ]
     },
     "execution_count": 19,
     "metadata": {},
     "output_type": "execute_result"
    }
   ],
   "source": [
    "sales_df['gross margin percentage'].var()"
   ]
  },
  {
   "cell_type": "code",
   "execution_count": 20,
   "id": "f0a420bc",
   "metadata": {},
   "outputs": [
    {
     "data": {
      "text/plain": [
       "137.09659414448348"
      ]
     },
     "execution_count": 20,
     "metadata": {},
     "output_type": "execute_result"
    }
   ],
   "source": [
    "sales_df['gross income'].var()"
   ]
  },
  {
   "cell_type": "code",
   "execution_count": 21,
   "id": "b39d128c",
   "metadata": {},
   "outputs": [
    {
     "data": {
      "text/plain": [
       "2.9535182282282335"
      ]
     },
     "execution_count": 21,
     "metadata": {},
     "output_type": "execute_result"
    }
   ],
   "source": [
    "sales_df['Rating'].var()"
   ]
  },
  {
   "cell_type": "code",
   "execution_count": 22,
   "id": "e8f5a0b0",
   "metadata": {},
   "outputs": [
    {
     "data": {
      "text/plain": [
       "26.494628347919768"
      ]
     },
     "execution_count": 22,
     "metadata": {},
     "output_type": "execute_result"
    }
   ],
   "source": [
    "sales_df['Unit price'].std()"
   ]
  },
  {
   "cell_type": "code",
   "execution_count": 23,
   "id": "b46dbd8f",
   "metadata": {},
   "outputs": [
    {
     "data": {
      "text/plain": [
       "2.923430595455697"
      ]
     },
     "execution_count": 23,
     "metadata": {},
     "output_type": "execute_result"
    }
   ],
   "source": [
    "sales_df['Quantity'].std()"
   ]
  },
  {
   "cell_type": "code",
   "execution_count": 24,
   "id": "61f039b6",
   "metadata": {},
   "outputs": [
    {
     "data": {
      "text/plain": [
       "11.708825480998659"
      ]
     },
     "execution_count": 24,
     "metadata": {},
     "output_type": "execute_result"
    }
   ],
   "source": [
    "sales_df['Tax 5%'].std()"
   ]
  },
  {
   "cell_type": "code",
   "execution_count": 25,
   "id": "d50d4c4b",
   "metadata": {},
   "outputs": [
    {
     "data": {
      "text/plain": [
       "245.88533510097207"
      ]
     },
     "execution_count": 25,
     "metadata": {},
     "output_type": "execute_result"
    }
   ],
   "source": [
    "sales_df['Total'].std()"
   ]
  },
  {
   "cell_type": "code",
   "execution_count": 26,
   "id": "da337a6f",
   "metadata": {},
   "outputs": [
    {
     "data": {
      "text/plain": [
       "234.17650961997307"
      ]
     },
     "execution_count": 26,
     "metadata": {},
     "output_type": "execute_result"
    }
   ],
   "source": [
    "sales_df['cogs'].std()"
   ]
  },
  {
   "cell_type": "code",
   "execution_count": 27,
   "id": "6e7b631b",
   "metadata": {},
   "outputs": [
    {
     "data": {
      "text/plain": [
       "6.131497611557303e-14"
      ]
     },
     "execution_count": 27,
     "metadata": {},
     "output_type": "execute_result"
    }
   ],
   "source": [
    "sales_df['gross margin percentage'].std()"
   ]
  },
  {
   "cell_type": "code",
   "execution_count": 28,
   "id": "a4f7bf39",
   "metadata": {},
   "outputs": [
    {
     "data": {
      "text/plain": [
       "11.708825480998659"
      ]
     },
     "execution_count": 28,
     "metadata": {},
     "output_type": "execute_result"
    }
   ],
   "source": [
    "sales_df['gross income'].std()"
   ]
  },
  {
   "cell_type": "code",
   "execution_count": 29,
   "id": "766aa220",
   "metadata": {},
   "outputs": [
    {
     "data": {
      "text/plain": [
       "1.718580294379123"
      ]
     },
     "execution_count": 29,
     "metadata": {},
     "output_type": "execute_result"
    }
   ],
   "source": [
    "sales_df['Rating'].std()"
   ]
  },
  {
   "cell_type": "code",
   "execution_count": 30,
   "id": "25e8c69d",
   "metadata": {},
   "outputs": [
    {
     "data": {
      "text/html": [
       "<div>\n",
       "<style scoped>\n",
       "    .dataframe tbody tr th:only-of-type {\n",
       "        vertical-align: middle;\n",
       "    }\n",
       "\n",
       "    .dataframe tbody tr th {\n",
       "        vertical-align: top;\n",
       "    }\n",
       "\n",
       "    .dataframe thead th {\n",
       "        text-align: right;\n",
       "    }\n",
       "</style>\n",
       "<table border=\"1\" class=\"dataframe\">\n",
       "  <thead>\n",
       "    <tr style=\"text-align: right;\">\n",
       "      <th></th>\n",
       "      <th>count</th>\n",
       "      <th>mean</th>\n",
       "      <th>std</th>\n",
       "      <th>min</th>\n",
       "      <th>25%</th>\n",
       "      <th>50%</th>\n",
       "      <th>75%</th>\n",
       "      <th>max</th>\n",
       "    </tr>\n",
       "  </thead>\n",
       "  <tbody>\n",
       "    <tr>\n",
       "      <th>Unit price</th>\n",
       "      <td>1000.0</td>\n",
       "      <td>55.672130</td>\n",
       "      <td>2.649463e+01</td>\n",
       "      <td>10.080000</td>\n",
       "      <td>32.875000</td>\n",
       "      <td>55.230000</td>\n",
       "      <td>77.935000</td>\n",
       "      <td>99.960000</td>\n",
       "    </tr>\n",
       "    <tr>\n",
       "      <th>Quantity</th>\n",
       "      <td>1000.0</td>\n",
       "      <td>5.510000</td>\n",
       "      <td>2.923431e+00</td>\n",
       "      <td>1.000000</td>\n",
       "      <td>3.000000</td>\n",
       "      <td>5.000000</td>\n",
       "      <td>8.000000</td>\n",
       "      <td>10.000000</td>\n",
       "    </tr>\n",
       "    <tr>\n",
       "      <th>Tax 5%</th>\n",
       "      <td>1000.0</td>\n",
       "      <td>15.379369</td>\n",
       "      <td>1.170883e+01</td>\n",
       "      <td>0.508500</td>\n",
       "      <td>5.924875</td>\n",
       "      <td>12.088000</td>\n",
       "      <td>22.445250</td>\n",
       "      <td>49.650000</td>\n",
       "    </tr>\n",
       "    <tr>\n",
       "      <th>Total</th>\n",
       "      <td>1000.0</td>\n",
       "      <td>322.966749</td>\n",
       "      <td>2.458853e+02</td>\n",
       "      <td>10.678500</td>\n",
       "      <td>124.422375</td>\n",
       "      <td>253.848000</td>\n",
       "      <td>471.350250</td>\n",
       "      <td>1042.650000</td>\n",
       "    </tr>\n",
       "    <tr>\n",
       "      <th>cogs</th>\n",
       "      <td>1000.0</td>\n",
       "      <td>307.587380</td>\n",
       "      <td>2.341765e+02</td>\n",
       "      <td>10.170000</td>\n",
       "      <td>118.497500</td>\n",
       "      <td>241.760000</td>\n",
       "      <td>448.905000</td>\n",
       "      <td>993.000000</td>\n",
       "    </tr>\n",
       "    <tr>\n",
       "      <th>gross margin percentage</th>\n",
       "      <td>1000.0</td>\n",
       "      <td>4.761905</td>\n",
       "      <td>6.131498e-14</td>\n",
       "      <td>4.761905</td>\n",
       "      <td>4.761905</td>\n",
       "      <td>4.761905</td>\n",
       "      <td>4.761905</td>\n",
       "      <td>4.761905</td>\n",
       "    </tr>\n",
       "    <tr>\n",
       "      <th>gross income</th>\n",
       "      <td>1000.0</td>\n",
       "      <td>15.379369</td>\n",
       "      <td>1.170883e+01</td>\n",
       "      <td>0.508500</td>\n",
       "      <td>5.924875</td>\n",
       "      <td>12.088000</td>\n",
       "      <td>22.445250</td>\n",
       "      <td>49.650000</td>\n",
       "    </tr>\n",
       "    <tr>\n",
       "      <th>Rating</th>\n",
       "      <td>1000.0</td>\n",
       "      <td>6.972700</td>\n",
       "      <td>1.718580e+00</td>\n",
       "      <td>4.000000</td>\n",
       "      <td>5.500000</td>\n",
       "      <td>7.000000</td>\n",
       "      <td>8.500000</td>\n",
       "      <td>10.000000</td>\n",
       "    </tr>\n",
       "  </tbody>\n",
       "</table>\n",
       "</div>"
      ],
      "text/plain": [
       "                          count        mean           std        min  \\\n",
       "Unit price               1000.0   55.672130  2.649463e+01  10.080000   \n",
       "Quantity                 1000.0    5.510000  2.923431e+00   1.000000   \n",
       "Tax 5%                   1000.0   15.379369  1.170883e+01   0.508500   \n",
       "Total                    1000.0  322.966749  2.458853e+02  10.678500   \n",
       "cogs                     1000.0  307.587380  2.341765e+02  10.170000   \n",
       "gross margin percentage  1000.0    4.761905  6.131498e-14   4.761905   \n",
       "gross income             1000.0   15.379369  1.170883e+01   0.508500   \n",
       "Rating                   1000.0    6.972700  1.718580e+00   4.000000   \n",
       "\n",
       "                                25%         50%         75%          max  \n",
       "Unit price                32.875000   55.230000   77.935000    99.960000  \n",
       "Quantity                   3.000000    5.000000    8.000000    10.000000  \n",
       "Tax 5%                     5.924875   12.088000   22.445250    49.650000  \n",
       "Total                    124.422375  253.848000  471.350250  1042.650000  \n",
       "cogs                     118.497500  241.760000  448.905000   993.000000  \n",
       "gross margin percentage    4.761905    4.761905    4.761905     4.761905  \n",
       "gross income               5.924875   12.088000   22.445250    49.650000  \n",
       "Rating                     5.500000    7.000000    8.500000    10.000000  "
      ]
     },
     "execution_count": 30,
     "metadata": {},
     "output_type": "execute_result"
    }
   ],
   "source": [
    "sales_df.describe().T"
   ]
  },
  {
   "cell_type": "code",
   "execution_count": 36,
   "id": "1d7f845f",
   "metadata": {},
   "outputs": [
    {
     "ename": "SyntaxError",
     "evalue": "invalid syntax (<ipython-input-36-be60ec10ae13>, line 5)",
     "output_type": "error",
     "traceback": [
      "\u001b[1;36m  File \u001b[1;32m\"<ipython-input-36-be60ec10ae13>\"\u001b[1;36m, line \u001b[1;32m5\u001b[0m\n\u001b[1;33m    sns.boxplot(x= sales_df.Unit price, color='pink')\u001b[0m\n\u001b[1;37m                                 ^\u001b[0m\n\u001b[1;31mSyntaxError\u001b[0m\u001b[1;31m:\u001b[0m invalid syntax\n"
     ]
    }
   ],
   "source": [
    "from matplotlib import pyplot as plt\n",
    "import seaborn as sns\n",
    "plt.figure(figsize= (20,15))\n",
    "plt.subplot(8,1,1)\n",
    "sns.boxplot(x= sales_df.Unit price, color='pink')\n",
    "plt.subplot(8,1,2)\n",
    "sns.boxplot(x= sales_df.Quantity, color='pink')\n",
    "plt.subplot(8,1,3)\n",
    "sns.boxplot(x= sales_df.Tax 5%, color='pink')\n",
    "plt.subplot(8,1,4)\n",
    "sns.boxplot(x= sales_df.Total, color='pink')\n",
    "plt.subplot(8,1,5)\n",
    "sns.boxplot(x= sales_df.Cogs, color='pink')\n",
    "plt.subplot(8,1,6)\n",
    "sns.boxplot(x= sales_df.Gross margin percentage, color='pink')\n",
    "plt.subplot(8,1,7)\n",
    "sns.boxplot(x= sales_df.Gross income, color='pink')   \n",
    "plt.subplot(8,1,8)\n",
    "sns.boxplot(x= sales_df.Gating, color='pink')\n",
    "plt.show()"
   ]
  },
  {
   "cell_type": "code",
   "execution_count": null,
   "id": "8c085517",
   "metadata": {},
   "outputs": [],
   "source": []
  }
 ],
 "metadata": {
  "kernelspec": {
   "display_name": "Python 3",
   "language": "python",
   "name": "python3"
  },
  "language_info": {
   "codemirror_mode": {
    "name": "ipython",
    "version": 3
   },
   "file_extension": ".py",
   "mimetype": "text/x-python",
   "name": "python",
   "nbconvert_exporter": "python",
   "pygments_lexer": "ipython3",
   "version": "3.8.8"
  }
 },
 "nbformat": 4,
 "nbformat_minor": 5
}
